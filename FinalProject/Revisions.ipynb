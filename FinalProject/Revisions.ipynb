{
 "cells": [
  {
   "cell_type": "markdown",
   "id": "44dc09f3",
   "metadata": {},
   "source": [
    "# <center> **Revisions** <center>"
   ]
  },
  {
   "cell_type": "markdown",
   "id": "bd2b7f9f",
   "metadata": {},
   "source": [
    "##### **CU 1 - PR: Fix Grammar and Spelling**\n",
    "\n",
    "Evidence of this revision can be found throughout my jupyter notebook's markdown boxes. I corrected a bunch of spelling mistakes including the following: influeced to influenced, neccessary to necessary, preffered to preferred, isnt to isn't, lowercase library names to uppercase since they are proper nouns, substracting to subtracting, ahtlete to athlete, betIen to between, accesor to accessor, intergers to integers, trendline to trend line, boxplots to box plots, Acceses to Accesses, collumn to column, Finaly to Finally, wisker to whisker, and reresents to represents."
   ]
  },
  {
   "cell_type": "markdown",
   "id": "177e9a61",
   "metadata": {},
   "source": [
    "##### **RA 1 - PR: Explain I should use a polynomial trendline over other graphs**\n",
    "Evidence of this revision can be found in my jupter notebook's methodology section in the markdown boxes around my correlation scatterplot. I expanded the explanation of the correlation scatter plot as a whole and included a in-depth analysis of how to interpret our graph right below the output containing the graph. Most important to this revision, I explained that we use a polynomial instead of a line because running times and age don't have a linear relationship but instead a non-linear parabolic (U-shaped) pattern that is better captured with a second degree polynomial.\n"
   ]
  },
  {
   "cell_type": "markdown",
   "id": "5221edcb",
   "metadata": {},
   "source": [
    "##### **RA 2 - RW: Rewriting the methodology to use functions from the get-go**\n",
    "\n",
    "I first attempted to approach this section as a `PR` and rewrite my paper's methodology section with a function initially. However, I stumbled upon an issue: Whenever I tried splitting my function into multiple code blocks I would get a `unexpected indentation` error. Later, I learned this was because you can't really split a function nto different code blocks without getting this error as Jupyter notebook expects you to fully define your function within a single code block. I performed research to try and find any alternative or ways around this issue, but I was only able to find this stack overflow discussion https://stackoverflow.com/questions/15948887/ipython-notebook-use-of-different-cell-for-one-function. In the discussion the highest scoring answer claims that \"Each cell in an IPython notebook has to be independant and is runned individually,\" and that \"Adding code to a function after it has been defined is not possible.\" Moreover, it calls for us to \"[not] think of the IPython notebook as a full text file with markdown, but more as a differents things to be done in each cell, and do them sequentially.\" Thus, even if I could, split up our function into multiple code cells so that I can explain it through markdown, doing so would go against the aforementioned idea. Instead I can break up our function by explaining it through comments within the code which is what was already being done. In addition by first writing the code I want to later combine into a singular function I get the ability to clearly explain each snippet of the code through markdown. Essentially, I shouldn't define the function from the get-go because I wont be able to explain snippets of code through markdown text and would have one massive markdown box (Or pehaps two if I choose to write on above and another below), instead I should keep the code as is since it allows me to clearly explain the process of writing my code and why I perform the different operations I do before then merging it all into a singular function that is already well understood by the reader as it is only a combination of what was already written."
   ]
  },
  {
   "cell_type": "markdown",
   "id": "385d99d6",
   "metadata": {},
   "source": [
    "##### **RA 3 - PR: Avoid having too many graphs all at once**\n",
    "\n",
    "Evidence for this can be found in my project in the methodology section above the markdown box where the function is created. Essentially, I had to change my approach to plotting. I looked up the mathplot documentation and found `mathplotlib.figure` which allows me to create subplots. What this means for the code is that I now initially setup my subplots `fig, axes = plt.subplots(1, 2, figsize=(16, 6))`, and I replace `plt` with the corresponding axes of our specific graph which would be `axes[0]` for the scatter plot and `axes[1]` for the box plot. This way my graphs are smaller (By setting the figsize) and they are also more compact as they are side-by-side. "
   ]
  },
  {
   "cell_type": "markdown",
   "id": "668f3806",
   "metadata": {},
   "source": [
    "##### **RA 4 - PR: Add analysis to the output of my graphs withing the methodology section**\n",
    "\n",
    "Evidence for this can be found after each graph in the later part of my methodology section. I included an analysis right after where I determine when an athlete can be expected to be at their fastest as well as the general trends for their times and when they will be their slowest. I also explained how to analyze the graphs in the first markdown box before all of different events are analysed."
   ]
  },
  {
   "cell_type": "markdown",
   "id": "e035e56b",
   "metadata": {},
   "source": [
    "##### **RA 5 - PR: Improve my discussion section**\n",
    "\n",
    "I added a discussions section which can be found at the end of my paper. It includes key results, interpretations, implications, limitations and biases, as well as recommendations for future work."
   ]
  },
  {
   "cell_type": "markdown",
   "id": "c1352b38",
   "metadata": {},
   "source": [
    "##### **RA 6 - PR: Improve my conclusion section**\n",
    "\n",
    "I shortened my conclusion and made broader more generally applicable claims, this can be found at the end of my paper. In addition, I also discussed the importance of the findings in the latter half of my conclusion. "
   ]
  }
 ],
 "metadata": {
  "language_info": {
   "name": "python"
  }
 },
 "nbformat": 4,
 "nbformat_minor": 5
}
